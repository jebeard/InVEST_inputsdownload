{
 "cells": [
  {
   "cell_type": "markdown",
   "metadata": {
    "id": "ghPiDy5r0jv-"
   },
   "source": [
    "# Script to create all required outputs to run InVEST model for a given AOI!\n",
    "\n",
    "*Author: Jack Beard, FutureWater*\n",
    "\n",
    "Suggested steps before running:\n",
    "1. Install Anaconda from https://www.anaconda.com/\n",
    "2. Open \"Anaconda prompt\"\n",
    "3. Create a new environment (called gee or similar) by running:\n",
    "    > conda create -n gee python=3.7\n",
    "4. Activate environment by running \n",
    "    > conda activate gee\n",
    "5. Install required packages by running:\n",
    "    \n",
    "    > conda install -c conda-forge earthengine-api\n",
    "    \n",
    "    > conda install geemap -c conda-forge\n",
    "    \n",
    "    > conda install geopandas\n",
    "    \n",
    "    > conda install -c conda-forge rasterio\n",
    "   \n",
    "6. Open Jupyter Notebook by running:\n",
    "    > jupyter notebook\n"
   ]
  },
  {
   "cell_type": "markdown",
   "metadata": {},
   "source": [
    "*Potential improvements:*\n",
    "1. Some sort of automation of creation of climate zones using precip/temp datasets for larger areas\n",
    "2. Ability to choose between datasets"
   ]
  },
  {
   "cell_type": "code",
   "execution_count": 3,
   "metadata": {
    "colab": {
     "base_uri": "https://localhost:8080/",
     "height": 515
    },
    "executionInfo": {
     "elapsed": 283,
     "status": "error",
     "timestamp": 1660058130302,
     "user": {
      "displayName": "Jack Beard",
      "userId": "04760547242646059977"
     },
     "user_tz": -60
    },
    "id": "oCn7xLRUxsDk",
    "outputId": "969cdb3f-8ee3-4145-d1de-e7f344810b37",
    "scrolled": true
   },
   "outputs": [
    {
     "data": {
      "text/html": [
       "<p>To authorize access needed by Earth Engine, open the following\n",
       "        URL in a web browser and follow the instructions:</p>\n",
       "        <p><a href=https://code.earthengine.google.com/client-auth?scopes=https%3A//www.googleapis.com/auth/earthengine%20https%3A//www.googleapis.com/auth/devstorage.full_control&request_id=TgLnaCLcxOULc0cN6h48-iYQr-LCUUOwwYkgB9lh4WM&tc=tYW3av6M6rIyDTrhV9dLG9i-QGYVjNHXqZkgfVzJNHo&cc=fwYDuEDm45eOmhCB0nzpJ_BQb9paORTN8ATu6l9XVpc>https://code.earthengine.google.com/client-auth?scopes=https%3A//www.googleapis.com/auth/earthengine%20https%3A//www.googleapis.com/auth/devstorage.full_control&request_id=TgLnaCLcxOULc0cN6h48-iYQr-LCUUOwwYkgB9lh4WM&tc=tYW3av6M6rIyDTrhV9dLG9i-QGYVjNHXqZkgfVzJNHo&cc=fwYDuEDm45eOmhCB0nzpJ_BQb9paORTN8ATu6l9XVpc</a></p>\n",
       "        <p>The authorization workflow will generate a code, which you should paste in the box below.</p>\n",
       "        "
      ],
      "text/plain": [
       "<IPython.core.display.HTML object>"
      ]
     },
     "metadata": {},
     "output_type": "display_data"
    },
    {
     "name": "stdout",
     "output_type": "stream",
     "text": [
      "Enter verification code: 4/1ARtbsJrq6aW4cZeSW4rLw0pnEu4PzY07TNwOUwzFrUyGoQDfuLqoLsfowwc\n",
      "\n",
      "Successfully saved authorization token.\n"
     ]
    }
   ],
   "source": [
    "# Importing required libraries\n",
    "\n",
    "import ee\n",
    "import geemap\n",
    "\n",
    "import numpy as np\n",
    "import pandas as pd\n",
    "import geopandas as gpd\n",
    "import rasterio\n",
    "\n",
    "# Trigger the authentication flow.\n",
    "ee.Authenticate()\n",
    "\n",
    "# Initialize the library.\n",
    "ee.Initialize()\n"
   ]
  },
  {
   "cell_type": "markdown",
   "metadata": {},
   "source": [
    "## Downloading background datasets"
   ]
  },
  {
   "cell_type": "markdown",
   "metadata": {
    "id": "kp6kWIfhJO7-"
   },
   "source": [
    "### Defining input shapefile and input paths"
   ]
  },
  {
   "cell_type": "code",
   "execution_count": 43,
   "metadata": {
    "executionInfo": {
     "elapsed": 241,
     "status": "ok",
     "timestamp": 1660058087538,
     "user": {
      "displayName": "Jack Beard",
      "userId": "04760547242646059977"
     },
     "user_tz": -60
    },
    "id": "4tbUqHyXJY09"
   },
   "outputs": [],
   "source": [
    "path_wd = \"c:/Work/FW/InVEST/Lukanga_Wetland_Subbasins/GEE_files/\"\n",
    "shapefile = \"c:/Work/FW/InVEST/Lukanga_Wetland_Subbasins/AOI/Wetland_Subbasin.shp\" # At tis point, this needs to be in WGS84!\n",
    "\n",
    "project_crs = \"EPSG:32735\" # define espg for reprojection of output rasters"
   ]
  },
  {
   "cell_type": "markdown",
   "metadata": {
    "id": "KJOgOCf10DVm"
   },
   "source": [
    "### AOI data"
   ]
  },
  {
   "cell_type": "code",
   "execution_count": 44,
   "metadata": {
    "colab": {
     "base_uri": "https://localhost:8080/",
     "height": 276
    },
    "executionInfo": {
     "elapsed": 918,
     "status": "error",
     "timestamp": 1660058091460,
     "user": {
      "displayName": "Jack Beard",
      "userId": "04760547242646059977"
     },
     "user_tz": -60
    },
    "id": "FDSXPdZWyEMO",
    "outputId": "046d0118-136f-47a3-b4f9-212085c0bee7",
    "scrolled": true
   },
   "outputs": [
    {
     "data": {
      "application/vnd.jupyter.widget-view+json": {
       "model_id": "2feacf08fb954270a82e3a70c9726db9",
       "version_major": 2,
       "version_minor": 0
      },
      "text/plain": [
       "Map(center=[20, 0], controls=(WidgetControl(options=['position', 'transparent_bg'], widget=HBox(children=(Togg…"
      ]
     },
     "metadata": {},
     "output_type": "display_data"
    }
   ],
   "source": [
    "## # Using admin layer\n",
    "## country_name = \"Zambia\"\n",
    "## province_name = \"Western\"\n",
    "## # Importing country shape - could also use user asset\n",
    "## shp = ee.FeatureCollection(\"FAO/GAUL/2015/level1\").filter(ee.Filter.eq('ADM0_NAME', country_name)).filter(ee.Filter.eq('ADM1_NAME', province_name))\n",
    "\n",
    "shp = geemap.shp_to_ee(shapefile)\n",
    "\n",
    "shp_geom = shp.geometry()\n",
    "\n",
    "# Creating map\n",
    "Map = geemap.Map()\n",
    "Map.centerObject(shp)\n",
    "Map.addLayerControl()\n",
    "\n",
    "#Add shapefile to Map  \n",
    "Map.addLayer(shp, {},'AOI')\n",
    "\n",
    "Map"
   ]
  },
  {
   "cell_type": "markdown",
   "metadata": {
    "id": "NcKNu9FL1lO-"
   },
   "source": [
    "### Land use data"
   ]
  },
  {
   "cell_type": "code",
   "execution_count": 31,
   "metadata": {
    "colab": {
     "base_uri": "https://localhost:8080/",
     "height": 71
    },
    "executionInfo": {
     "elapsed": 1933,
     "status": "ok",
     "timestamp": 1660037289376,
     "user": {
      "displayName": "Jack Beard",
      "userId": "04760547242646059977"
     },
     "user_tz": -60
    },
    "id": "HW6wHeATyDUN",
    "outputId": "fdd32e05-e757-464d-af34-b61492b2de1e"
   },
   "outputs": [
    {
     "name": "stdout",
     "output_type": "stream",
     "text": [
      "Generating URL ...\n",
      "Downloading data from https://earthengine.googleapis.com/v1alpha/projects/earthengine-legacy/thumbnails/3c2fc8b37e3d9995880c6d05167fb4f3-aa703f4b6b77a8be2a50a39b751d2e7a:getPixels\n",
      "Please wait ...\n",
      "Data downloaded to c:\\Work\\FW\\InVEST\\Lukanga_Wetland_Subbasins\\GEE_files\\lu_aoi.tif\n"
     ]
    }
   ],
   "source": [
    "# https://developers.google.com/earth-engine/datasets/catalog/ESA_WorldCover_v100\n",
    "LU = ee.ImageCollection(\"ESA/WorldCover/v100\") \n",
    "LU_reproj = LU.filterBounds(shp_geom).first() \\\n",
    ".setDefaultProjection(project_crs)\n",
    "\n",
    "LU_aoi = LU_reproj.clip(shp_geom)\n",
    "\n",
    "#visualization = {bands: ['Map']}\n",
    "\n",
    "# Adding to above map\n",
    "Map.addLayer(LU_aoi, {}, \"Landcover\")\n",
    "\n",
    "# Getting projection and transform to create common gridding system!\n",
    "projection = LU_aoi.projection().getInfo()\n",
    "\n",
    "# Export to file\n",
    "geemap.ee_export_image(LU_aoi.clip(shp_geom),\n",
    "                       path_wd + \"lu_aoi.tif\",\n",
    "                       scale = 100,\n",
    "                       region = shp_geom,\n",
    "                       crs = project_crs)"
   ]
  },
  {
   "cell_type": "markdown",
   "metadata": {
    "id": "WR1wF28m1rp_"
   },
   "source": [
    "### Soil Type Data"
   ]
  },
  {
   "cell_type": "code",
   "execution_count": 45,
   "metadata": {
    "executionInfo": {
     "elapsed": 898,
     "status": "ok",
     "timestamp": 1660036246995,
     "user": {
      "displayName": "Jack Beard",
      "userId": "04760547242646059977"
     },
     "user_tz": -60
    },
    "id": "zC5IkZrQ24m5"
   },
   "outputs": [
    {
     "name": "stdout",
     "output_type": "stream",
     "text": [
      "Generating URL ...\n",
      "Downloading data from https://earthengine.googleapis.com/v1alpha/projects/earthengine-legacy/thumbnails/294fd47444b642b413f6dbbd93775899-ee5ff8cac290e328f3cc06bc7de15661:getPixels\n",
      "Please wait ...\n",
      "Data downloaded to c:\\Work\\FW\\InVEST\\Lukanga_Wetland_Subbasins\\GEE_files\\soilgroup_aoi.tif\n"
     ]
    }
   ],
   "source": [
    "# Using FutureWater's OWN dataset (hihydrosoil) - https://samapriya.github.io/awesome-gee-community-datasets/projects/hihydro_soil/\n",
    "# The dual soil class groups are coded as 14 (A/D), 24 (B/D) and 34 (C/D) - Remapping them for visualization\n",
    "hydrologic_soil_group = ee.Image('projects/sat-io/open-datasets/HiHydroSoilv2_0/Hydrologic_Soil_Group_250m') \\\n",
    ".remap([1, 14, 2, 24, 3, 34, 4], [1, 1, 2, 2, 3, 3, 4]) \\\n",
    ".setDefaultProjection(project_crs)\n",
    "\n",
    "soilgroup_aoi = hydrologic_soil_group.clip(shp_geom)\n",
    "\n",
    "# Adding to above map\n",
    "Map.addLayer(soilgroup_aoi, {min:1, max:4, \"palette\":[\"green\",\"blue\",\"brown\", \"white\"]}, 'Hydrologic Soil Groups')\n",
    "\n",
    "# Export to file\n",
    "geemap.ee_export_image(soilgroup_aoi.clip(shp_geom),\n",
    "                       path_wd + \"soilgroup_aoi.tif\",\n",
    "                       scale = 100,\n",
    "                       region = shp_geom)"
   ]
  },
  {
   "cell_type": "markdown",
   "metadata": {
    "id": "GtVoNUs931nP"
   },
   "source": [
    "### Topo Data"
   ]
  },
  {
   "cell_type": "markdown",
   "metadata": {},
   "source": [
    "Note: Can use Hydrosheds OR FabDEM for this!"
   ]
  },
  {
   "cell_type": "code",
   "execution_count": 35,
   "metadata": {
    "executionInfo": {
     "elapsed": 602,
     "status": "ok",
     "timestamp": 1660036257149,
     "user": {
      "displayName": "Jack Beard",
      "userId": "04760547242646059977"
     },
     "user_tz": -60
    },
    "id": "YJ2FzK373iX4"
   },
   "outputs": [
    {
     "name": "stdout",
     "output_type": "stream",
     "text": [
      "Generating URL ...\n",
      "Downloading data from https://earthengine.googleapis.com/v1alpha/projects/earthengine-legacy/thumbnails/e8a4ce8078929ee5d86f35b9ffacb1e4-4055c5e6aa13d75ba89b110e294299ac:getPixels\n",
      "Please wait ...\n",
      "Data downloaded to c:\\Work\\FW\\InVEST\\Lukanga_Wetland_Subbasins\\GEE_files\\topo_aoi.tif\n"
     ]
    }
   ],
   "source": [
    "# https://developers.google.com/earth-engine/datasets/catalog/WWF_HydroSHEDS_03CONDEM\n",
    "#topo = ee.Image(\"WWF/HydroSHEDS/03CONDEM\") \n",
    "\n",
    "# https://samapriya.github.io/awesome-gee-community-datasets/projects/fabdem/\n",
    "topo_tiles = ee.ImageCollection(\"projects/sat-io/open-datasets/FABDEM\") \\\n",
    ".filterBounds(shp_geom)\n",
    "\n",
    "# mosaic\n",
    "topo = topo_tiles.mosaic() \\\n",
    ".setDefaultProjection(project_crs)\n",
    "\n",
    "topo_aoi = topo.clip(shp_geom)\n",
    "\n",
    "topoVisParams = {\"min\":1000,\"max\":1500,\"palette\":[\"green\",\"blue\",\"brown\", \"white\"]}\n",
    "\n",
    "# Adding to above map\n",
    "Map.addLayer(topo_aoi, topoVisParams,'Topography')\n",
    "\n",
    "# Export to file\n",
    "geemap.ee_export_image(topo_aoi.clip(shp_geom),\n",
    "                       path_wd + \"topo_aoi.tif\",\n",
    "                       scale = 50,\n",
    "                       region = shp_geom)"
   ]
  },
  {
   "cell_type": "markdown",
   "metadata": {},
   "source": [
    "## Downloading data for Seasonal Water Yield Module"
   ]
  },
  {
   "cell_type": "markdown",
   "metadata": {
    "id": "zKUxytjH36lh"
   },
   "source": [
    "### Precipitation Data"
   ]
  },
  {
   "cell_type": "markdown",
   "metadata": {},
   "source": [
    "Note: This uses CHIRPS Monthly data, for ERA5 or other use another code snippet!"
   ]
  },
  {
   "cell_type": "code",
   "execution_count": 46,
   "metadata": {},
   "outputs": [],
   "source": [
    "# function to clip by shp_geom\n",
    "def clipbyshape(image):\n",
    "    return image.clip(shp_geom)\n"
   ]
  },
  {
   "cell_type": "code",
   "execution_count": 47,
   "metadata": {},
   "outputs": [
    {
     "name": "stdout",
     "output_type": "stream",
     "text": [
      "Generating URL ...\n",
      "Downloading data from https://earthengine.googleapis.com/v1alpha/projects/earthengine-legacy/thumbnails/02233d48cc8665f294cb31abbebf67a8-bcaf6338ed1a82494bc8b1f6624a6739:getPixels\n",
      "Please wait ...\n",
      "Data downloaded to c:\\Work\\FW\\InVEST\\Lukanga_Wetland_Subbasins\\GEE_files\\precip_chirps_aoi_1.tif\n",
      "Generating URL ...\n",
      "Downloading data from https://earthengine.googleapis.com/v1alpha/projects/earthengine-legacy/thumbnails/89b0fa077d1f698d9f5e6ac6879d121c-c866520faa38800e18e356ec92230022:getPixels\n",
      "Please wait ...\n",
      "Data downloaded to c:\\Work\\FW\\InVEST\\Lukanga_Wetland_Subbasins\\GEE_files\\precip_chirps_aoi_2.tif\n",
      "Generating URL ...\n",
      "Downloading data from https://earthengine.googleapis.com/v1alpha/projects/earthengine-legacy/thumbnails/9b725995d0b839e4e44e73bded3b73f4-165cf6ad6be2110520ec0099b7c26a8a:getPixels\n",
      "Please wait ...\n",
      "Data downloaded to c:\\Work\\FW\\InVEST\\Lukanga_Wetland_Subbasins\\GEE_files\\precip_chirps_aoi_3.tif\n",
      "Generating URL ...\n",
      "Downloading data from https://earthengine.googleapis.com/v1alpha/projects/earthengine-legacy/thumbnails/c7100a9a3ae444c5b3afadf1d6ccad4e-e533a3e402f3f4847dbd1a1b9d80e965:getPixels\n",
      "Please wait ...\n",
      "Data downloaded to c:\\Work\\FW\\InVEST\\Lukanga_Wetland_Subbasins\\GEE_files\\precip_chirps_aoi_4.tif\n",
      "Generating URL ...\n",
      "Downloading data from https://earthengine.googleapis.com/v1alpha/projects/earthengine-legacy/thumbnails/0d9616a4d9a1eed6225295bdc95a5b3f-9e18cdffd1e39ac6c1b5a6f4afa75faf:getPixels\n",
      "Please wait ...\n",
      "Data downloaded to c:\\Work\\FW\\InVEST\\Lukanga_Wetland_Subbasins\\GEE_files\\precip_chirps_aoi_5.tif\n",
      "Generating URL ...\n",
      "Downloading data from https://earthengine.googleapis.com/v1alpha/projects/earthengine-legacy/thumbnails/943ea08f6be4f433f6bd6b3c6a117d1c-f95fd3692de4178cf74dcfa5d66fc5eb:getPixels\n",
      "Please wait ...\n",
      "Data downloaded to c:\\Work\\FW\\InVEST\\Lukanga_Wetland_Subbasins\\GEE_files\\precip_chirps_aoi_6.tif\n",
      "Generating URL ...\n",
      "Downloading data from https://earthengine.googleapis.com/v1alpha/projects/earthengine-legacy/thumbnails/6ef59ddb217fd88a281dde1841582124-12033a531cdfc497a48ae23b61a97473:getPixels\n",
      "Please wait ...\n",
      "Data downloaded to c:\\Work\\FW\\InVEST\\Lukanga_Wetland_Subbasins\\GEE_files\\precip_chirps_aoi_7.tif\n",
      "Generating URL ...\n",
      "Downloading data from https://earthengine.googleapis.com/v1alpha/projects/earthengine-legacy/thumbnails/28ec5179941ac01b12fbf2d86ec83a6e-9297f5e942ba5565daf2a4818cf1d6eb:getPixels\n",
      "Please wait ...\n",
      "Data downloaded to c:\\Work\\FW\\InVEST\\Lukanga_Wetland_Subbasins\\GEE_files\\precip_chirps_aoi_8.tif\n",
      "Generating URL ...\n",
      "Downloading data from https://earthengine.googleapis.com/v1alpha/projects/earthengine-legacy/thumbnails/1933c58eefa1481bee4cdd4621e25eda-c24e4f8e7705f96301ba15b984a2bb2e:getPixels\n",
      "Please wait ...\n",
      "Data downloaded to c:\\Work\\FW\\InVEST\\Lukanga_Wetland_Subbasins\\GEE_files\\precip_chirps_aoi_9.tif\n",
      "Generating URL ...\n",
      "Downloading data from https://earthengine.googleapis.com/v1alpha/projects/earthengine-legacy/thumbnails/8fe2acf8da4d7e8cd249cacb6499b14e-7e1880ba0a84b9431ac5b691c066b813:getPixels\n",
      "Please wait ...\n",
      "Data downloaded to c:\\Work\\FW\\InVEST\\Lukanga_Wetland_Subbasins\\GEE_files\\precip_chirps_aoi_10.tif\n",
      "Generating URL ...\n",
      "Downloading data from https://earthengine.googleapis.com/v1alpha/projects/earthengine-legacy/thumbnails/ee2830c931110440e1ae6dd4ce09ffa6-d10803776a6026135948d891b21426aa:getPixels\n",
      "Please wait ...\n",
      "Data downloaded to c:\\Work\\FW\\InVEST\\Lukanga_Wetland_Subbasins\\GEE_files\\precip_chirps_aoi_11.tif\n",
      "Generating URL ...\n",
      "Downloading data from https://earthengine.googleapis.com/v1alpha/projects/earthengine-legacy/thumbnails/92be15b7647ca1c0d7365c6e7db3cc8e-97b0512bfed48f5ea68f925e17a400bc:getPixels\n",
      "Please wait ...\n",
      "Data downloaded to c:\\Work\\FW\\InVEST\\Lukanga_Wetland_Subbasins\\GEE_files\\precip_chirps_aoi_12.tif\n"
     ]
    }
   ],
   "source": [
    "# Import dataset\n",
    "#prcp = ee.ImageCollection(\"ECMWF/ERA5_LAND/MONTHLY\") # https://developers.google.com/earth-engine/datasets/catalog/ECMWF_ERA5_LAND_MONTHLY\n",
    "prcp = ee.ImageCollection(\"UCSB-CHG/CHIRPS/DAILY\") # https://developers.google.com/earth-engine/datasets/catalog/UCSB-CHG_CHIRPS_DAILY\n",
    "\n",
    "# filter for time & date\n",
    "prcp_filter = prcp \\\n",
    ".filterDate('2002-01-01', '2022-01-01') \\\n",
    ".filterBounds(shp_geom) \\\n",
    ".select('precipitation') # note - if using ERA5, this should be changed to .select('total_precipitation')\n",
    "\n",
    "# clip by shape\n",
    "prcp_aoi = prcp_filter.map(clipbyshape)\n",
    "\n",
    "# function to return monthly totals\n",
    "def month_average_prcp(mon):\n",
    "  # filter for all incidences of month\n",
    "  prcp_mon_all = prcp_aoi.filter(ee.Filter.calendarRange(mon, mon, 'month'))\n",
    "  # perform monthly averages\n",
    "  prcp_mon_m_d = prcp_mon_all.reduce(ee.Reducer.mean())\n",
    "  prcp_mon = prcp_mon_m_d.multiply(30) # convert mm/day to mm/month\n",
    "  return(prcp_mon)\n",
    "\n",
    "months = ee.List.sequence(1, 12)\n",
    "prcp_month = months.map(month_average_prcp)\n",
    "\n",
    "# Define visualization parameters\n",
    "prcpVis = {\n",
    "  'min': 0,\n",
    "  'max': 300,\n",
    "  'palette': ['001137', '0aab1e', 'e7eb05', 'ff4a2d', 'e90000'],\n",
    "}\n",
    "\n",
    "# Show precipitation map\n",
    "Map.addLayer(ee.Image(prcp_month.get(3)), prcpVis, 'Precipitation January (mm/month)')\n",
    "\n",
    "# function to return monthly totals\n",
    "for mon in range(12):\n",
    "    mon_act = mon+1\n",
    "    im = ee.Image(prcp_month.get(mon))\n",
    "    path = path_wd + \"precip_chirps_aoi_\" + str(mon_act) + \".tif\"\n",
    "    geemap.ee_export_image(im, path,\n",
    "                           scale = 5566,\n",
    "                           region = shp_geom,\n",
    "                           crs = project_crs\n",
    "                          )"
   ]
  },
  {
   "cell_type": "markdown",
   "metadata": {},
   "source": [
    "### ETo Data"
   ]
  },
  {
   "cell_type": "code",
   "execution_count": 48,
   "metadata": {},
   "outputs": [
    {
     "name": "stdout",
     "output_type": "stream",
     "text": [
      "Generating URL ...\n",
      "Downloading data from https://earthengine.googleapis.com/v1alpha/projects/earthengine-legacy/thumbnails/0f122be95457554a16c5e0ad76973132-db8ad616ea650b0b3422e3df1d373eeb:getPixels\n",
      "Please wait ...\n",
      "Data downloaded to c:\\Work\\FW\\InVEST\\Lukanga_Wetland_Subbasins\\GEE_files\\eto_aoi_1.tif\n",
      "Generating URL ...\n",
      "Downloading data from https://earthengine.googleapis.com/v1alpha/projects/earthengine-legacy/thumbnails/dba5297f1722fa9aa89f3366af09c0dd-7f3ec6a2c051be9eccbc0674510c8b9e:getPixels\n",
      "Please wait ...\n",
      "Data downloaded to c:\\Work\\FW\\InVEST\\Lukanga_Wetland_Subbasins\\GEE_files\\eto_aoi_2.tif\n",
      "Generating URL ...\n",
      "Downloading data from https://earthengine.googleapis.com/v1alpha/projects/earthengine-legacy/thumbnails/c5a86f5d07be279d6eb97316887a5670-8bb738232ba24487fe6beeaaf5db4772:getPixels\n",
      "Please wait ...\n",
      "Data downloaded to c:\\Work\\FW\\InVEST\\Lukanga_Wetland_Subbasins\\GEE_files\\eto_aoi_3.tif\n",
      "Generating URL ...\n",
      "Downloading data from https://earthengine.googleapis.com/v1alpha/projects/earthengine-legacy/thumbnails/a915bb20e3f9c35f38dabae3e8dcff43-bbba0bcbc747791ee8cad3995c1a45ea:getPixels\n",
      "Please wait ...\n",
      "Data downloaded to c:\\Work\\FW\\InVEST\\Lukanga_Wetland_Subbasins\\GEE_files\\eto_aoi_4.tif\n",
      "Generating URL ...\n",
      "Downloading data from https://earthengine.googleapis.com/v1alpha/projects/earthengine-legacy/thumbnails/4d666155182abdba809bc148b38da107-f76d8cd385aca8788515678754850a51:getPixels\n",
      "Please wait ...\n",
      "Data downloaded to c:\\Work\\FW\\InVEST\\Lukanga_Wetland_Subbasins\\GEE_files\\eto_aoi_5.tif\n",
      "Generating URL ...\n",
      "Downloading data from https://earthengine.googleapis.com/v1alpha/projects/earthengine-legacy/thumbnails/ab6b56af6924f3a332033f2b5b17c277-26a46938d780bf2a3c410c49ec3b6674:getPixels\n",
      "Please wait ...\n",
      "Data downloaded to c:\\Work\\FW\\InVEST\\Lukanga_Wetland_Subbasins\\GEE_files\\eto_aoi_6.tif\n",
      "Generating URL ...\n",
      "Downloading data from https://earthengine.googleapis.com/v1alpha/projects/earthengine-legacy/thumbnails/2aff128b800fce673469ca7473e3fe75-7d4dc206ba9d6922659d836a6eb0dbae:getPixels\n",
      "Please wait ...\n",
      "Data downloaded to c:\\Work\\FW\\InVEST\\Lukanga_Wetland_Subbasins\\GEE_files\\eto_aoi_7.tif\n",
      "Generating URL ...\n",
      "Downloading data from https://earthengine.googleapis.com/v1alpha/projects/earthengine-legacy/thumbnails/861c9e5c2385388d42d4e70bf6ee3167-4167be652953aae014f6bb37d8f439ec:getPixels\n",
      "Please wait ...\n",
      "Data downloaded to c:\\Work\\FW\\InVEST\\Lukanga_Wetland_Subbasins\\GEE_files\\eto_aoi_8.tif\n",
      "Generating URL ...\n",
      "Downloading data from https://earthengine.googleapis.com/v1alpha/projects/earthengine-legacy/thumbnails/5cf5f0da0ec9026682f5334a7d8dd182-55750e469163506a6e934a8a9973a01c:getPixels\n",
      "Please wait ...\n",
      "Data downloaded to c:\\Work\\FW\\InVEST\\Lukanga_Wetland_Subbasins\\GEE_files\\eto_aoi_9.tif\n",
      "Generating URL ...\n",
      "Downloading data from https://earthengine.googleapis.com/v1alpha/projects/earthengine-legacy/thumbnails/93a91a476e8e4fb287f5bd47f530a54a-55653cb1f9fa8f24c4c407119f656db3:getPixels\n",
      "Please wait ...\n",
      "Data downloaded to c:\\Work\\FW\\InVEST\\Lukanga_Wetland_Subbasins\\GEE_files\\eto_aoi_10.tif\n",
      "Generating URL ...\n",
      "Downloading data from https://earthengine.googleapis.com/v1alpha/projects/earthengine-legacy/thumbnails/0f39441bd1ad7a0231f90c1705271660-593696a918536b2e5b51f388614bc1f3:getPixels\n",
      "Please wait ...\n",
      "Data downloaded to c:\\Work\\FW\\InVEST\\Lukanga_Wetland_Subbasins\\GEE_files\\eto_aoi_11.tif\n",
      "Generating URL ...\n",
      "Downloading data from https://earthengine.googleapis.com/v1alpha/projects/earthengine-legacy/thumbnails/cc7eff700de82123348472811f707ce5-0eda392fd73a7e1e5fb2d130c486c4cc:getPixels\n",
      "Please wait ...\n",
      "Data downloaded to c:\\Work\\FW\\InVEST\\Lukanga_Wetland_Subbasins\\GEE_files\\eto_aoi_12.tif\n"
     ]
    }
   ],
   "source": [
    "# https://developers.google.com/earth-engine/datasets/catalog/FAO_WAPOR_2_L1_RET_E\n",
    "ETo = ee.ImageCollection(\"FAO/WAPOR/2/L1_RET_E\")\n",
    "\n",
    "# filter for dates etc.\n",
    "ETo_filter = ETo \\\n",
    ".filterDate('2002-01-01', '2022-01-01') \\\n",
    ".filterBounds(shp_geom)\n",
    "\n",
    "# clip by shape\n",
    "ETo_aoi = ETo_filter.map(clipbyshape)\n",
    "\n",
    "# function to return monthly totals\n",
    "def month_year_average(mon):\n",
    "  # filter for all incidences of month\n",
    "  eto_mon_all = ETo_aoi.filter(ee.Filter.calendarRange(mon, mon, 'month'))\n",
    "  # perform averages for all months\n",
    "  eto_mon_m_d = eto_mon_all.reduce(ee.Reducer.mean())\n",
    "  eto_mon = eto_mon_m_d.multiply(3); # convert mm/day to mm/month, add 10 factor!\n",
    "  return(eto_mon)\n",
    "\n",
    "months = ee.List.sequence(1, 12)\n",
    "eto_month = months.map(month_year_average)\n",
    "\n",
    "# Define visualization parameters\n",
    "etoVis = {\n",
    "  'min': 0,\n",
    "  'max': 500,\n",
    "  'palette': ['001137', '0aab1e', 'e7eb05', 'ff4a2d', 'e90000'],\n",
    "}\n",
    "\n",
    "# Show precipitation map\n",
    "Map.addLayer(ee.Image(eto_month.get(3)), etoVis, 'ETo selected month (mm/month)')\n",
    "\n",
    "# function to return monthly totals\n",
    "for mon in range(12):\n",
    "    mon_act = mon+1\n",
    "    im = ee.Image(eto_month.get(mon))\n",
    "    path = path_wd + \"eto_aoi_\" + str(mon_act) + \".tif\"\n",
    "    geemap.ee_export_image(im, path,\n",
    "                           scale = 5566,\n",
    "                           region = shp_geom,\n",
    "                           crs = project_crs\n",
    "                          )"
   ]
  },
  {
   "cell_type": "markdown",
   "metadata": {},
   "source": [
    "### Rainfall events data generation"
   ]
  },
  {
   "cell_type": "code",
   "execution_count": 49,
   "metadata": {},
   "outputs": [
    {
     "name": "stdout",
     "output_type": "stream",
     "text": [
      "Generating URL ...\n",
      "Downloading data from https://earthengine.googleapis.com/v1alpha/projects/earthengine-legacy/tables/b8cc716ba2a0d2b76c77fb3fa0eb5c2b-4b7c6da77aec62b1efd9c318b86ec9fe:getFeatures\n",
      "Please wait ...\n",
      "Data downloaded to c:\\Work\\FW\\InVEST\\Lukanga_Wetland_Subbasins\\GEE_files\\precip_daily_series.csv\n"
     ]
    }
   ],
   "source": [
    "# function to return mean values\n",
    "def calcMean(img):\n",
    "  # gets the mean NDVI for the area in this img\n",
    "  mean = img.reduceRegion(ee.Reducer.mean(), shp_geom, 5566).get('precipitation')\n",
    "\n",
    "  # sets the date and the mean NDVI as a property of the image\n",
    "  return img.set('date', img.date().format()).set('mean', mean)\n",
    "\n",
    "# applies calcMean() in the collection\n",
    "col = prcp_aoi.map(calcMean)\n",
    "\n",
    "# reduces the images properties to a list of lists\n",
    "values = col.reduceColumns(ee.Reducer.toList(2), ['date', 'mean']).values().get(0)\n",
    "\n",
    "# type casts the result into a List\n",
    "lista = ee.List(values)\n",
    "\n",
    "# converts the list of lists to a Dictionaty\n",
    "means = ee.Dictionary(lista.flatten())\n",
    "\n",
    "# export to csv\n",
    "prcp_csv = path_wd + \"precip_daily_series.csv\"\n",
    "geemap.dict_to_csv(means, prcp_csv, by_row=True)\n"
   ]
  },
  {
   "cell_type": "code",
   "execution_count": 50,
   "metadata": {
    "scrolled": true
   },
   "outputs": [],
   "source": [
    "# Convert output csv to number of rainfall events using pandas\n",
    "prcp_df = pd.read_csv(prcp_csv, parse_dates=[1])\n",
    "\n",
    "prcp_df[\"events\"] = prcp_df[\"value\"].ge(1)\n",
    "\n",
    "#prcp_events = prcp_df.groupby([(prcp_df.name.dt.year), (prcp_df.name.dt.month)])[\"event\"].sum()\n",
    "monthly_df = prcp_df.groupby(pd.Grouper(freq='MS', key='name')).sum()\n",
    "#monthly_df = prcp_df.groupby(prcp_df['name'].dt.to_period('m')).sum()\n",
    "#print(monthly_df)\n",
    "#print(monthly_df.index)\n",
    "\n",
    "monthly_events = monthly_df.groupby(monthly_df.index.month)[\"events\"].mean()\n",
    "monthly_events.index.rename('month', inplace=True)\n",
    "\n",
    "events_csv = path_wd + \"precipitation_events.csv\"\n",
    "monthly_events.to_csv(events_csv)\n",
    "\n",
    "#print(prcp_events)\n",
    "#prcp_events_df.groupby(prcp_events_df.name.dt.month)[\"event\"].mean()"
   ]
  },
  {
   "cell_type": "markdown",
   "metadata": {},
   "source": [
    "## Downloading data for Sediment Delivery Ratio module"
   ]
  },
  {
   "cell_type": "markdown",
   "metadata": {},
   "source": [
    "### Soil erodibility dataset download"
   ]
  },
  {
   "cell_type": "code",
   "execution_count": 51,
   "metadata": {},
   "outputs": [
    {
     "name": "stdout",
     "output_type": "stream",
     "text": [
      "Generating URL ...\n",
      "Downloading data from https://earthengine.googleapis.com/v1alpha/projects/earthengine-legacy/thumbnails/f52891dfa3ee88e0efdda76b32d2247b-b85d20957e48ab6b7b54a75559ddf374:getPixels\n",
      "Please wait ...\n",
      "Data downloaded to c:\\Work\\FW\\InVEST\\Lukanga_Wetland_Subbasins\\GEE_files\\clay_aoi.tif\n",
      "Generating URL ...\n",
      "Downloading data from https://earthengine.googleapis.com/v1alpha/projects/earthengine-legacy/thumbnails/ca648f1723bfea744af3c76e6eba0996-d32da8eefb5e031dd3e3c2215dc262d1:getPixels\n",
      "Please wait ...\n",
      "Data downloaded to c:\\Work\\FW\\InVEST\\Lukanga_Wetland_Subbasins\\GEE_files\\silt_aoi.tif\n",
      "Generating URL ...\n",
      "Downloading data from https://earthengine.googleapis.com/v1alpha/projects/earthengine-legacy/thumbnails/0dc7f01db4e7757ade7f225311f7cd44-d9ca3c263558603a936d8a21e4e6dfaf:getPixels\n",
      "Please wait ...\n",
      "Data downloaded to c:\\Work\\FW\\InVEST\\Lukanga_Wetland_Subbasins\\GEE_files\\sand_aoi.tif\n",
      "Generating URL ...\n",
      "Downloading data from https://earthengine.googleapis.com/v1alpha/projects/earthengine-legacy/thumbnails/6eed6e84406673314e9a0dbf30e833ef-142ebcb097c50160cdc81018b3f40566:getPixels\n",
      "Please wait ...\n",
      "Data downloaded to c:\\Work\\FW\\InVEST\\Lukanga_Wetland_Subbasins\\GEE_files\\soc_aoi.tif\n"
     ]
    }
   ],
   "source": [
    "# https://samapriya.github.io/awesome-gee-community-datasets/projects/isric/\n",
    "\n",
    "soil_props = ['clay', 'silt', 'sand', 'soc']\n",
    "\n",
    "for prop in soil_props:\n",
    "    # make paths\n",
    "    image_loc = \"projects/soilgrids-isric/\" + prop + \"_mean\"\n",
    "    image_out = path_wd + prop + \"_aoi.tif\"\n",
    "    # get image from soilgrids\n",
    "    soil = ee.Image(image_loc)\n",
    "    soil_reproj = soil \\\n",
    "    .setDefaultProjection(project_crs)\n",
    "    soil_aoi = soil_reproj.clip(shp_geom)\n",
    "\n",
    "    # Export to file\n",
    "    geemap.ee_export_image(soil_aoi.clip(shp_geom),\n",
    "                           image_out,\n",
    "                           scale = 500, # this allows for download otherwise too large!\n",
    "                           region = shp_geom)\n"
   ]
  },
  {
   "cell_type": "markdown",
   "metadata": {},
   "source": [
    "### Soil erodibility calculation"
   ]
  },
  {
   "cell_type": "code",
   "execution_count": 52,
   "metadata": {},
   "outputs": [],
   "source": [
    "from rasterio.plot import show\n",
    "np.seterr(divide='ignore', invalid='ignore')\n",
    "\n",
    "# Function for interpolation of 0-30cm depth as described in:\n",
    "# https://journals.plos.org/plosone/article?id=10.1371/journal.pone.0169748 \n",
    "\n",
    "def integral_0_30(soil_prop):\n",
    "    # read rasters using rasterio\n",
    "    soil = path_wd + soil_prop + \"_aoi.tif\"\n",
    "    soil_raster = rasterio.open(soil)\n",
    "    soil_0_5 = soil_raster.read(1).astype(float)\n",
    "    soil_5_15 = soil_raster.read(2).astype(float)\n",
    "    soil_15_30 = soil_raster.read(3).astype(float)\n",
    "    \n",
    "    # calculate integral using methodology from https://automating-gis-processes.github.io/CSC18/lessons/L6/raster-calculations.html\n",
    "    integral = np.empty(soil_0_5.shape, dtype=rasterio.float32)\n",
    "    check = np.logical_or(soil_0_5 >= 0, soil_5_15 >= 0, soil_15_30 >= 0)\n",
    "    integral = np.where(check,\n",
    "                    ((5-0)*(2*soil_0_5) + (15-5)*(2*soil_5_15) + (30-15)*(2*soil_15_30)) / 30 * 0.5,\n",
    "                    -999 )\n",
    "    \n",
    "    return(integral)\n",
    "\n",
    "# calculating integrals\n",
    "clay_arr = integral_0_30('clay')/10\n",
    "silt_arr = integral_0_30('silt')/10\n",
    "sand_arr = integral_0_30('sand')/10\n",
    "soc_arr = integral_0_30('soc')/100\n",
    "\n",
    "# Calculation of soil erodibility from soilgrids data as described in:\n",
    "# https://www.sciencedirect.com/science/article/pii/S2666765721000107#bib0016\n",
    "def k_calc(cl,slt,sn,soc):\n",
    "    sn1 = 1-sn/100\n",
    "    k_aoi = 0.1317 * (0.2+0.3*np.exp(-0.0256*slt*(1-slt/100))*(slt/(cl+slt))**(0.3)) * (1-(0.25*soc)/(soc+np.exp(3.72-2.95*soc))) * (1-(0.7*sn1)/(sn1+np.exp(22.9*sn1-5.51)))\n",
    "    return(k_aoi)\n",
    "\n",
    "check = np.logical_or(clay_arr >= 0, silt_arr >= 0, sand_arr >= 0)\n",
    "k_aoi = np.where(check, k_calc(clay_arr, silt_arr, sand_arr, soc_arr), -999)\n",
    "\n",
    "# Write output to TIFF\n",
    "ras_template = rasterio.open(path_wd + soil_props[1] + \"_aoi.tif\")\n",
    "kwargs = ras_template.meta\n",
    "kwargs.update(\n",
    "    dtype=rasterio.float32,\n",
    "    count=1,\n",
    "    compress='lzw')\n",
    "\n",
    "k_img_out = path_wd + \"soil_erodibility_aoi.tif\"\n",
    "\n",
    "with rasterio.open(k_img_out, 'w', **kwargs) as dst:\n",
    "    dst.write_band(1, k_aoi.astype(rasterio.float32))\n"
   ]
  },
  {
   "cell_type": "markdown",
   "metadata": {},
   "source": [
    "## Running Invest"
   ]
  },
  {
   "cell_type": "code",
   "execution_count": 98,
   "metadata": {},
   "outputs": [
    {
     "ename": "ModuleNotFoundError",
     "evalue": "No module named 'natcap'",
     "output_type": "error",
     "traceback": [
      "\u001b[1;31m---------------------------------------------------------------------------\u001b[0m",
      "\u001b[1;31mModuleNotFoundError\u001b[0m                       Traceback (most recent call last)",
      "Input \u001b[1;32mIn [98]\u001b[0m, in \u001b[0;36m<cell line: 9>\u001b[1;34m()\u001b[0m\n\u001b[0;32m      6\u001b[0m \u001b[38;5;28;01mimport\u001b[39;00m \u001b[38;5;21;01mlogging\u001b[39;00m\n\u001b[0;32m      7\u001b[0m \u001b[38;5;28;01mimport\u001b[39;00m \u001b[38;5;21;01msys\u001b[39;00m\n\u001b[1;32m----> 9\u001b[0m \u001b[38;5;28;01mimport\u001b[39;00m \u001b[38;5;21;01mnatcap\u001b[39;00m\u001b[38;5;21;01m.\u001b[39;00m\u001b[38;5;21;01minvest\u001b[39;00m\u001b[38;5;21;01m.\u001b[39;00m\u001b[38;5;21;01mseasonal_water_yield\u001b[39;00m\u001b[38;5;21;01m.\u001b[39;00m\u001b[38;5;21;01mseasonal_water_yield\u001b[39;00m\n\u001b[0;32m     10\u001b[0m \u001b[38;5;28;01mimport\u001b[39;00m \u001b[38;5;21;01mnatcap\u001b[39;00m\u001b[38;5;21;01m.\u001b[39;00m\u001b[38;5;21;01minvest\u001b[39;00m\u001b[38;5;21;01m.\u001b[39;00m\u001b[38;5;21;01mutils\u001b[39;00m\n",
      "\u001b[1;31mModuleNotFoundError\u001b[0m: No module named 'natcap'"
     ]
    }
   ],
   "source": [
    "# coding=UTF-8\n",
    "# -----------------------------------------------\n",
    "# Generated by InVEST 3.11.0 on Tue Aug 16 18:38:40 2022\n",
    "# Model: Seasonal Water Yield\n",
    "\n",
    "import logging\n",
    "import sys\n",
    "\n",
    "import natcap.invest.seasonal_water_yield.seasonal_water_yield\n",
    "import natcap.invest.utils\n"
   ]
  },
  {
   "cell_type": "code",
   "execution_count": null,
   "metadata": {},
   "outputs": [],
   "source": [
    "\n",
    "LOGGER = logging.getLogger(__name__)\n",
    "root_logger = logging.getLogger()\n",
    "\n",
    "handler = logging.StreamHandler(sys.stdout)\n",
    "formatter = logging.Formatter(\n",
    "    fmt=natcap.invest.utils.LOG_FMT,\n",
    "    datefmt='%m/%d/%Y %H:%M:%S ')\n",
    "handler.setFormatter(formatter)\n",
    "logging.basicConfig(level=logging.INFO, handlers=[handler])\n",
    "\n",
    "args = {\n",
    "    'alpha_m': '0.8333',\n",
    "    'aoi_path': 'C:\\\\Work\\\\FW\\\\InVEST\\\\Zambia\\\\InVEST_SWY\\\\basin_AOI_UTM.shp',\n",
    "    'beta_i': '1',\n",
    "    'biophysical_table_path': 'C:\\\\Work\\\\FW\\\\InVEST\\\\Zambia\\\\InVEST_SWY\\\\biophysical_table_aoi_SWY.csv',\n",
    "    'climate_zone_raster_path': '',\n",
    "    'climate_zone_table_path': '',\n",
    "    'dem_raster_path': 'C:\\\\Work\\\\FW\\\\InVEST\\\\Zambia\\\\InVEST_SWY\\\\topo_aoi.tif',\n",
    "    'et0_dir': 'C:\\\\Work\\\\FW\\\\InVEST\\\\Zambia\\\\InVEST_SWY\\\\ETo',\n",
    "    'gamma': '1',\n",
    "    'l_path': '',\n",
    "    'lulc_raster_path': 'C:\\\\Work\\\\FW\\\\InVEST\\\\Zambia\\\\InVEST_SWY\\\\lu_aoi.tif',\n",
    "    'monthly_alpha': False,\n",
    "    'monthly_alpha_path': '',\n",
    "    'n_workers': '-1',\n",
    "    'precip_dir': 'C:\\\\Work\\\\FW\\\\InVEST\\\\Zambia\\\\InVEST_SWY\\\\Precip',\n",
    "    'rain_events_table_path': 'C:\\\\Work\\\\FW\\\\InVEST\\\\Zambia\\\\InVEST_SWY\\\\precipitation_events.csv',\n",
    "    'results_suffix': 'Zambia',\n",
    "    'soil_group_path': 'C:\\\\Work\\\\FW\\\\InVEST\\\\Zambia\\\\InVEST_SWY\\\\soilgroup_aoi.tif',\n",
    "    'threshold_flow_accumulation': '3',\n",
    "    'user_defined_climate_zones': False,\n",
    "    'user_defined_local_recharge': False,\n",
    "    'workspace_dir': 'C:\\\\Work\\\\FW\\\\InVEST\\\\Zambia\\\\InVEST_SWY',\n",
    "}\n",
    "\n",
    "if __name__ == '__main__':\n",
    "    natcap.invest.seasonal_water_yield.seasonal_water_yield.execute(args)\n"
   ]
  },
  {
   "cell_type": "code",
   "execution_count": null,
   "metadata": {},
   "outputs": [],
   "source": [
    "def mean_region(im):\n",
    "    meanDictionary = im.reduceRegion(\n",
    "        reducer=ee.Reducer.mean(),\n",
    "        geometry=shp_geom,\n",
    "        scale=5566)\n",
    "    mean = meanDictionary.get('total_precipitation_mean').getInfo()\n",
    "    return mean\n",
    "\n",
    "prcp_means = prcp_aoi.map(mean_region)"
   ]
  },
  {
   "cell_type": "code",
   "execution_count": 12,
   "metadata": {},
   "outputs": [
    {
     "name": "stdout",
     "output_type": "stream",
     "text": [
      "1318.6600496278052\n",
      "range(0, 11)\n"
     ]
    }
   ],
   "source": [
    "im = ee.Image(eto_month.get(2))\n",
    "\n",
    "meanDictionary = im.reduceRegion(\n",
    "  reducer=ee.Reducer.max(),\n",
    "  geometry=shp_geom,\n",
    "  scale=300\n",
    ")\n",
    "\n",
    "print(meanDictionary.get('L1_RET_E_mean').getInfo())\n",
    "\n",
    "print(range(11))"
   ]
  },
  {
   "cell_type": "code",
   "execution_count": 30,
   "metadata": {},
   "outputs": [
    {
     "data": {
      "text/plain": [
       "'import ee \\nfrom ee_plugin import Map\\n\\n# Create a function that takes an image, calculates the mean over a\\n# geometry and returns the value and the corresponding date as a\\n# feature.\\ndef createTS(img):\\n  date = img.get(\\'system_time_start\\')\\n  value = img.reduceRegion(ee.Reducer.mean(), POI).get(\\'LST_Day_1km\\')\\n  ft = ee.Feature(None, {\\'system:time_start\\': date,\\n                             \\'date\\': ee.Date(date).format(\\'Y/M/d\\'),\\n                             \\'value\\': value})\\n  return ft\\n\\n\\n# Apply the function to each image in modisLST.\\nTS = modisLST.map(createTS)\\n\\n# Create a graph of the time-series.\\ngraph = ui.Chart.feature.byFeature(TS, \\'system:time_start\\', \\'value\\')\\n\\nprint(graph.setChartType(\"ColumnChart\") \\\\\\n           .setOptions({vAxis: {title: \\'LST [deg. C]\\'},\\n                        \\'hAxis\\': \\'{title\\': \\'Date\\'}}))\\n\\n# Export the time-series as a csv.\\nExport.table.toDrive({\\'collection\\': TS, \\'selectors\\': \\'date, value\\'})\\n'"
      ]
     },
     "execution_count": 30,
     "metadata": {},
     "output_type": "execute_result"
    }
   ],
   "source": [
    "in_js = \"c:/Work/FW/InVEST/export_csv.js\"\n",
    "out_py = \"c:/Work/FW/InVEST/export_csv.py\"\n",
    "geemap.js_to_python(in_file = in_js, out_file = out_py)"
   ]
  }
 ],
 "metadata": {
  "colab": {
   "authorship_tag": "ABX9TyOZ9LvupFhfPz5bYWUgHoOg",
   "name": "Invest_Setup.ipynb",
   "provenance": []
  },
  "kernelspec": {
   "display_name": "Python 3 (ipykernel)",
   "language": "python",
   "name": "python3"
  },
  "language_info": {
   "codemirror_mode": {
    "name": "ipython",
    "version": 3
   },
   "file_extension": ".py",
   "mimetype": "text/x-python",
   "name": "python",
   "nbconvert_exporter": "python",
   "pygments_lexer": "ipython3",
   "version": "3.9.12"
  }
 },
 "nbformat": 4,
 "nbformat_minor": 1
}
